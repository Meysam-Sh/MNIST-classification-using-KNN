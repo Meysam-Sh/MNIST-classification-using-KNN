{
  "nbformat": 4,
  "nbformat_minor": 0,
  "metadata": {
    "colab": {
      "name": "MNIST classification using KNN.ipynb",
      "provenance": [],
      "collapsed_sections": []
    },
    "kernelspec": {
      "display_name": "Python 3",
      "language": "python",
      "name": "python3"
    },
    "language_info": {
      "codemirror_mode": {
        "name": "ipython",
        "version": 3
      },
      "file_extension": ".py",
      "mimetype": "text/x-python",
      "name": "python",
      "nbconvert_exporter": "python",
      "pygments_lexer": "ipython3",
      "version": "3.6.5"
    }
  },
  "cells": [
    {
      "cell_type": "code",
      "metadata": {
        "id": "G4VKjLZyJqn1"
      },
      "source": [
        "# imports\n",
        "%matplotlib inline\n",
        "import matplotlib.pyplot as plt\n",
        "import random\n",
        "import numpy as np\n",
        "import tensorflow as tf\n",
        "from sklearn.neighbors import KNeighborsClassifier as KNC\n",
        "import time"
      ],
      "execution_count": null,
      "outputs": []
    },
    {
      "cell_type": "markdown",
      "metadata": {
        "id": "5i5t-I0gJqn6"
      },
      "source": [
        "## **$\\color{darkorange}{\\text{MNIST dataset}}$** "
      ]
    },
    {
      "cell_type": "markdown",
      "metadata": {
        "id": "Gzt1V8Y4Jqn7"
      },
      "source": [
        "Loading the MNIST dataset and inspect it."
      ]
    },
    {
      "cell_type": "code",
      "metadata": {
        "colab": {
          "base_uri": "https://localhost:8080/"
        },
        "id": "_0xU4xfjJqn7",
        "outputId": "f9511f12-f046-4a06-cf8f-79fa33ce6077"
      },
      "source": [
        "mnist = tf.keras.datasets.mnist\n",
        "(train_data,train_labels),(test_data,test_labels) = mnist.load_data()\n",
        "\n",
        "print(\"Number of training examples\\t\",len(train_data))\n",
        "print(\"Number of test instances\\t\",len(test_data))\n",
        "print(\"Shape of train_data\\t\\t\",train_data.shape)\n",
        "print(\"Shape of train_labels\\t\\t\",train_labels.shape)\n",
        "print(\"Shape of test_data\\t\\t\",test_data.shape)\n",
        "print(\"Shape of test_labels\\t\\t\",test_labels.shape)"
      ],
      "execution_count": null,
      "outputs": [
        {
          "output_type": "stream",
          "text": [
            "Downloading data from https://storage.googleapis.com/tensorflow/tf-keras-datasets/mnist.npz\n",
            "11493376/11490434 [==============================] - 0s 0us/step\n",
            "Number of training examples\t 60000\n",
            "Number of test instances\t 10000\n",
            "Shape of train_data\t\t (60000, 28, 28)\n",
            "Shape of train_labels\t\t (60000,)\n",
            "Shape of test_data\t\t (10000, 28, 28)\n",
            "Shape of test_labels\t\t (10000,)\n"
          ],
          "name": "stdout"
        }
      ]
    },
    {
      "cell_type": "code",
      "metadata": {
        "colab": {
          "base_uri": "https://localhost:8080/",
          "height": 269
        },
        "id": "BPlc4LVrJqn9",
        "outputId": "1af8a3c0-9898-42bf-aeb0-38c4c4e2a093"
      },
      "source": [
        "# Randomly choose 10 images from first 1000 images of Train Data\n",
        "for index,idx in enumerate(random.sample(range(1000),10)): \n",
        "    plt.subplot(10,1,index+1)\n",
        "    plt.imshow(train_data[idx],cmap=\"Greys\")"
      ],
      "execution_count": null,
      "outputs": [
        {
          "output_type": "display_data",
          "data": {
            "image/png": "[encoded data removed]",
            "text/plain": [
              "<Figure size 432x288 with 10 Axes>"
            ]
          },
          "metadata": {
            "tags": [],
            "needs_background": "light"
          }
        }
      ]
    },
    {
      "cell_type": "code",
      "metadata": {
        "id": "nSvGzXgkJqn_"
      },
      "source": [
        "# Flatten the train_data and test_data for faster computation\n",
        "train_data = train_data.reshape([60000,784])\n",
        "test_data = test_data.reshape([10000,784])\n",
        "\n",
        "# Convertting the int8 datatype to float/int 32/64\n",
        "train_data = np.float32(train_data)\n",
        "test_data = np.float32(test_data)"
      ],
      "execution_count": null,
      "outputs": []
    },
    {
      "cell_type": "markdown",
      "metadata": {
        "id": "AC9r-3Y6JqoD"
      },
      "source": [
        "## **$\\color{darkorange}{\\text{KNN Classifier}}$** \n"
      ]
    },
    {
      "cell_type": "markdown",
      "metadata": {
        "id": "22gnxqsvJqoE"
      },
      "source": [
        "General Hint: \n",
        "* Initially don't try to do any extra optimization: start by just getting the basic kNN algorithm to work.\n",
        "* Try as simple a version as you can:\n",
        "   * can you try it for a small set of low-dimensional points?\n",
        "   * can you try it for a tiny set (e.g. 3 or 4) of MNIST images?\n",
        "\n",
        "* Once you've got the basics working for a tiny data set, compute the Euclidean Distance more efficiently by using:\n",
        "$$|| x - y||_2 = x.x^T -2x.y + y.y^T$$"
      ]
    },
    {
      "cell_type": "code",
      "metadata": {
        "id": "iT-bXT1KJqoF"
      },
      "source": [
        "# custom KNN class\n",
        "from scipy.spatial.distance import cdist\n",
        "class KNN:\n",
        "    def __init__(self, k , num_classes):\n",
        "        self.num_classes = num_classes\n",
        "        self.k = k\n",
        "        self.parameters = None\n",
        "    \n",
        "    # finds the distance between points from test data ans training data\n",
        "    def distance_batch(self,data):# M x 784; N x 784\n",
        "        train_data = self.parameters[0]\n",
        "        return cdist(data,train_data)\n",
        "    \n",
        "    # Trains the classifier using the training data and training labels.\n",
        "    def train(self, training_data, training_labels):\n",
        "        self.parameters = [training_data, training_labels]\n",
        "\n",
        "    # Makes use of the trained parameters to predict the class and returns the most probable class.\n",
        "    # Calls the predict_proba method.    \n",
        "    def predict(self, data):\n",
        "        all_probabilities = self.predict_proba(data)\n",
        "        predicted_labeles = np.zeros(len(all_probabilities))\n",
        "        for index, i in enumerate(all_probabilities):\n",
        "            predicted_labeles[index] = np.argmax(i)           \n",
        "        return predicted_labeles\n",
        "    \n",
        "    #  For each data point, predicts the assigned class probabilities.\n",
        "    def predict_proba(self,data):\n",
        "        distance_output = self.distance_batch(data)\n",
        "        sorted_distance_index = np.argpartition(distance_output,self.k)\n",
        "  \n",
        "        predict_mat = np.zeros(shape = (len(sorted_distance_index),10))\n",
        "        for index, i in enumerate(sorted_distance_index):\n",
        "            for j in i[:self.k]:\n",
        "                current_label = self.parameters[1][j]\n",
        "                predict_mat[index][current_label] += 1/self.k\n",
        "        return predict_mat\n",
        "\n",
        "    #  Returns the accuracy as a percentage computed over the data.  \n",
        "    def accuracy(self, data, labels):\n",
        "        num_correct = 0\n",
        "        num_seen = 0\n",
        "        pred_labels = np.array(self.predict(data))\n",
        "        return (pred_labels==labels).sum()/len(data)"
      ],
      "execution_count": null,
      "outputs": []
    },
    {
      "cell_type": "markdown",
      "metadata": {
        "id": "yj50ZGHfJqoI"
      },
      "source": [
        "## **$\\color{darkorange}{\\text{Evaluation!}}$** \n",
        "Let's instatiate our KNN and the KNN provided by SkLearn. "
      ]
    },
    {
      "cell_type": "code",
      "metadata": {
        "colab": {
          "base_uri": "https://localhost:8080/"
        },
        "id": "_TFvf6EqJqoI",
        "outputId": "b982088a-da49-4be4-a458-5c53f7fcb011"
      },
      "source": [
        "custom_knn = KNN(k=5,num_classes=10)\n",
        "custom_knn.train(train_data,train_labels)\n",
        "\n",
        "sklearn_knn = KNC(5,algorithm=\"brute\")\n",
        "sklearn_knn.fit(train_data,train_labels)"
      ],
      "execution_count": null,
      "outputs": [
        {
          "output_type": "execute_result",
          "data": {
            "text/plain": [
              "KNeighborsClassifier(algorithm='brute', leaf_size=30, metric='minkowski',\n",
              "                     metric_params=None, n_jobs=None, n_neighbors=5, p=2,\n",
              "                     weights='uniform')"
            ]
          },
          "metadata": {
            "tags": []
          },
          "execution_count": 12
        }
      ]
    },
    {
      "cell_type": "markdown",
      "metadata": {
        "id": "zQZkwc2xJqoK"
      },
      "source": [
        "First, we will check the accuracy <u>on first 100</u> examples of test dataset."
      ]
    },
    {
      "cell_type": "code",
      "metadata": {
        "id": "CX8sr15lJqoM",
        "scrolled": true,
        "colab": {
          "base_uri": "https://localhost:8080/"
        },
        "outputId": "5a082a56-1476-420a-836e-04801f515e77"
      },
      "source": [
        "t=time.clock()\n",
        "print(\"Custom KNN Accuracy:\\t\",custom_knn.accuracy(test_data[:100],test_labels[:100]))\n",
        "print(\"Time taken:\\t\\t\",time.clock()-t,\"\\n\")\n",
        "\n",
        "t=time.clock()\n",
        "print(\"SkLearn KNN Accuracy:\\t\",(sklearn_knn.predict(test_data[:100])==test_labels[:100]).sum()/100)\n",
        "print(\"Time taken:\\t\\t\",time.clock()-t)"
      ],
      "execution_count": null,
      "outputs": [
        {
          "output_type": "stream",
          "text": [
            "/usr/local/lib/python3.7/dist-packages/ipykernel_launcher.py:1: DeprecationWarning: time.clock has been deprecated in Python 3.3 and will be removed from Python 3.8: use time.perf_counter or time.process_time instead\n",
            "  \"\"\"Entry point for launching an IPython kernel.\n"
          ],
          "name": "stderr"
        },
        {
          "output_type": "stream",
          "text": [
            "Custom KNN Accuracy:\t 0.99\n",
            "Time taken:\t\t 3.9814969999999974 \n",
            "\n"
          ],
          "name": "stdout"
        },
        {
          "output_type": "stream",
          "text": [
            "/usr/local/lib/python3.7/dist-packages/ipykernel_launcher.py:3: DeprecationWarning: time.clock has been deprecated in Python 3.3 and will be removed from Python 3.8: use time.perf_counter or time.process_time instead\n",
            "  This is separate from the ipykernel package so we can avoid doing imports until\n",
            "/usr/local/lib/python3.7/dist-packages/ipykernel_launcher.py:5: DeprecationWarning: time.clock has been deprecated in Python 3.3 and will be removed from Python 3.8: use time.perf_counter or time.process_time instead\n",
            "  \"\"\"\n"
          ],
          "name": "stderr"
        },
        {
          "output_type": "stream",
          "text": [
            "SkLearn KNN Accuracy:\t 0.99\n",
            "Time taken:\t\t 1.1882259999999967\n"
          ],
          "name": "stdout"
        },
        {
          "output_type": "stream",
          "text": [
            "/usr/local/lib/python3.7/dist-packages/ipykernel_launcher.py:7: DeprecationWarning: time.clock has been deprecated in Python 3.3 and will be removed from Python 3.8: use time.perf_counter or time.process_time instead\n",
            "  import sys\n"
          ],
          "name": "stderr"
        }
      ]
    },
    {
      "cell_type": "markdown",
      "metadata": {
        "id": "-nxosO5oJqoO"
      },
      "source": [
        "To check correctness, we will sample 200 examples from the test dataset and compare the predict_proba methods."
      ]
    },
    {
      "cell_type": "code",
      "metadata": {
        "id": "RPUBL-YzJqoP",
        "colab": {
          "base_uri": "https://localhost:8080/"
        },
        "outputId": "8737b730-8a26-4f06-9f18-cdf5794bf4f6"
      },
      "source": [
        "indices = random.sample(range(len(test_data)),200)\n",
        "selected_data = test_data[indices]\n",
        "selected_labels = test_labels[indices]\n",
        "print((np.abs(custom_knn.predict_proba(selected_data)-sklearn_knn.predict_proba(selected_data))<10**-10).all())"
      ],
      "execution_count": null,
      "outputs": [
        {
          "output_type": "stream",
          "text": [
            "True\n"
          ],
          "name": "stdout"
        }
      ]
    },
    {
      "cell_type": "markdown",
      "metadata": {
        "id": "OB6mljfUJqoQ"
      },
      "source": [
        "The difference between predections by our KNN and SkLearn's KNN is lower than $10^{-10}$, that's great! "
      ]
    },
    {
      "cell_type": "markdown",
      "metadata": {
        "id": "aQNQWxSUJqoR"
      },
      "source": [
        "## **$\\color{darkorange}{\\text{Cross-validation to choose k}}$** "
      ]
    },
    {
      "cell_type": "markdown",
      "metadata": {
        "id": "Ffy--HPzJqoS"
      },
      "source": [
        "Now, I use SkLearn to perform <b>10-fold cross-validation</b> across different values of k (the KNN hyperparameter) [1,5,10,15,20]. Then, I plot the graph of test accuracy (along with standard-deviation) for each value of k. This would answer twoi questions:\n",
        "* What is the ideal value of k according to our experiments?\n",
        "* How do we decide?\n",
        "\n"
      ]
    },
    {
      "cell_type": "code",
      "metadata": {
        "id": "pxL-6Fa6JqoS"
      },
      "source": [
        "\"\"\"\n",
        "Generates a graph of test-accuracy along with standard deviation\n",
        "as a function of the ks.\n",
        "\"\"\"\n",
        "def kNN_CrossVal(data,labels,ks=[1,5,10,15,20]):\n",
        "    from sklearn.model_selection import cross_val_score\n",
        "    import statistics\n",
        "    from statistics import mean\n",
        "\n",
        "    y = []\n",
        "    std_accurayy = []\n",
        "    for k in ks:\n",
        "        knn = KNC(n_neighbors=k)\n",
        "        test_accuracy = cross_val_score(knn, data, labels, cv=10, scoring='accuracy')\n",
        "        std_accurayy.append(statistics.stdev(test_accuracy))\n",
        "        y.append(mean(test_accuracy))\n",
        "    plt.figure()\n",
        "    plt.xlabel('Number of Neighbors (K)')\n",
        "    plt.ylabel('test_accuracy')\n",
        "    plt.xticks(ks)  \n",
        "    plt.errorbar(ks, y, yerr = std_accurayy,fmt='o')\n",
        "        "
      ],
      "execution_count": null,
      "outputs": []
    },
    {
      "cell_type": "code",
      "metadata": {
        "id": "3pZqvy5HJqoV",
        "scrolled": true,
        "colab": {
          "base_uri": "https://localhost:8080/",
          "height": 279
        },
        "outputId": "302362b2-850a-4185-d352-06e8c022ce8d"
      },
      "source": [
        "kNN_CrossVal(train_data[0:201,:],train_labels[0:201])"
      ],
      "execution_count": null,
      "outputs": [
        {
          "output_type": "display_data",
          "data": {
            "image/png": "[encoded data removed]",
            "text/plain": [
              "<Figure size 432x288 with 1 Axes>"
            ]
          },
          "metadata": {
            "tags": [],
            "needs_background": "light"
          }
        }
      ]
    },
    {
      "cell_type": "markdown",
      "metadata": {
        "id": "iIN0l9UqJqoW"
      },
      "source": [
        "Take away lesson: the larger <code>k</code>, the lower accuracy is. But, at the same time, the amount of variation of the accuracy is higher."
      ]
    },
    {
      "cell_type": "markdown",
      "metadata": {
        "id": "HNp6QGClJqol"
      },
      "source": [
        "## **$\\color{darkorange}{\\text{Analyzing performance on MNIST}}$** \n"
      ]
    },
    {
      "cell_type": "markdown",
      "metadata": {
        "id": "hfzTZKzIJqom"
      },
      "source": [
        "Now, I analyze the images which got misclassified by KNN (with k = 5) by showing in detail the Nearest Neighbors. "
      ]
    },
    {
      "cell_type": "code",
      "metadata": {
        "id": "acKDi8bpJqoo",
        "colab": {
          "base_uri": "https://localhost:8080/",
          "height": 1000
        },
        "outputId": "be04813f-9354-4a8e-d4ea-45ee30df8e1e"
      },
      "source": [
        "# Code here. \n",
        "predictions = custom_knn.predict(test_data[0:401,:])\n",
        "for index , image in enumerate(test_data[0:401,:]):\n",
        "    if predictions[index] != test_labels[0:401][index]:\n",
        "        plt.imshow(test_data[0:401,:][index].reshape(28,28),cmap = \"Greys\")\n",
        "        plt.show()\n",
        "        print('The Nearest Neighbor label is:' ,predictions[index])\n",
        "        print(\"*\"*35)\n",
        "    else:\n",
        "        continue\n"
      ],
      "execution_count": null,
      "outputs": [
        {
          "output_type": "display_data",
          "data": {
            "image/png": "[encoded data removed]",
            "text/plain": [
              "<Figure size 432x288 with 1 Axes>"
            ]
          },
          "metadata": {
            "tags": [],
            "needs_background": "light"
          }
        },
        {
          "output_type": "stream",
          "text": [
            "The Nearest Neighbor label is: 0.0\n",
            "***********************************\n"
          ],
          "name": "stdout"
        },
        {
          "output_type": "display_data",
          "data": {
            "image/png": "[encoded data removed]",
            "text/plain": [
              "<Figure size 432x288 with 1 Axes>"
            ]
          },
          "metadata": {
            "tags": [],
            "needs_background": "light"
          }
        },
        {
          "output_type": "stream",
          "text": [
            "The Nearest Neighbor label is: 9.0\n",
            "***********************************\n"
          ],
          "name": "stdout"
        },
        {
          "output_type": "display_data",
          "data": {
            "image/png": "[encoded data removed]",
            "text/plain": [
              "<Figure size 432x288 with 1 Axes>"
            ]
          },
          "metadata": {
            "tags": [],
            "needs_background": "light"
          }
        },
        {
          "output_type": "stream",
          "text": [
            "The Nearest Neighbor label is: 1.0\n",
            "***********************************\n"
          ],
          "name": "stdout"
        },
        {
          "output_type": "display_data",
          "data": {
            "image/png": "[encoded data removed]",
            "text/plain": [
              "<Figure size 432x288 with 1 Axes>"
            ]
          },
          "metadata": {
            "tags": [],
            "needs_background": "light"
          }
        },
        {
          "output_type": "stream",
          "text": [
            "The Nearest Neighbor label is: 8.0\n",
            "***********************************\n"
          ],
          "name": "stdout"
        },
        {
          "output_type": "display_data",
          "data": {
            "image/png": "[encoded data removed]",
            "text/plain": [
              "<Figure size 432x288 with 1 Axes>"
            ]
          },
          "metadata": {
            "tags": [],
            "needs_background": "light"
          }
        },
        {
          "output_type": "stream",
          "text": [
            "The Nearest Neighbor label is: 6.0\n",
            "***********************************\n"
          ],
          "name": "stdout"
        },
        {
          "output_type": "display_data",
          "data": {
            "image/png": "[encoded data removed]",
            "text/plain": [
              "<Figure size 432x288 with 1 Axes>"
            ]
          },
          "metadata": {
            "tags": [],
            "needs_background": "light"
          }
        },
        {
          "output_type": "stream",
          "text": [
            "The Nearest Neighbor label is: 1.0\n",
            "***********************************\n"
          ],
          "name": "stdout"
        },
        {
          "output_type": "display_data",
          "data": {
            "image/png": "[encoded data removed]",
            "text/plain": [
              "<Figure size 432x288 with 1 Axes>"
            ]
          },
          "metadata": {
            "tags": [],
            "needs_background": "light"
          }
        },
        {
          "output_type": "stream",
          "text": [
            "The Nearest Neighbor label is: 0.0\n",
            "***********************************\n"
          ],
          "name": "stdout"
        },
        {
          "output_type": "display_data",
          "data": {
            "image/png": "[encoded data removed]",
            "text/plain": [
              "<Figure size 432x288 with 1 Axes>"
            ]
          },
          "metadata": {
            "tags": [],
            "needs_background": "light"
          }
        },
        {
          "output_type": "stream",
          "text": [
            "The Nearest Neighbor label is: 7.0\n",
            "***********************************\n"
          ],
          "name": "stdout"
        },
        {
          "output_type": "display_data",
          "data": {
            "image/png": "[encoded data removed]",
            "text/plain": [
              "<Figure size 432x288 with 1 Axes>"
            ]
          },
          "metadata": {
            "tags": [],
            "needs_background": "light"
          }
        },
        {
          "output_type": "stream",
          "text": [
            "The Nearest Neighbor label is: 7.0\n",
            "***********************************\n"
          ],
          "name": "stdout"
        },
        {
          "output_type": "display_data",
          "data": {
            "image/png": "[encoded data removed]",
            "text/plain": [
              "<Figure size 432x288 with 1 Axes>"
            ]
          },
          "metadata": {
            "tags": [],
            "needs_background": "light"
          }
        },
        {
          "output_type": "stream",
          "text": [
            "The Nearest Neighbor label is: 4.0\n",
            "***********************************\n"
          ],
          "name": "stdout"
        },
        {
          "output_type": "display_data",
          "data": {
            "image/png": "[encoded data removed]",
            "text/plain": [
              "<Figure size 432x288 with 1 Axes>"
            ]
          },
          "metadata": {
            "tags": [],
            "needs_background": "light"
          }
        },
        {
          "output_type": "stream",
          "text": [
            "The Nearest Neighbor label is: 4.0\n",
            "***********************************\n"
          ],
          "name": "stdout"
        },
        {
          "output_type": "display_data",
          "data": {
            "image/png": "[encoded data removed]",
            "text/plain": [
              "<Figure size 432x288 with 1 Axes>"
            ]
          },
          "metadata": {
            "tags": [],
            "needs_background": "light"
          }
        },
        {
          "output_type": "stream",
          "text": [
            "The Nearest Neighbor label is: 7.0\n",
            "***********************************\n"
          ],
          "name": "stdout"
        }
      ]
    }
  ]
}